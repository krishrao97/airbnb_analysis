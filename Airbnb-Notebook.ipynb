{
 "cells": [
  {
   "cell_type": "markdown",
   "metadata": {},
   "source": [
    "# Modeling Airbnb Data"
   ]
  },
  {
   "cell_type": "code",
   "execution_count": 1,
   "metadata": {},
   "outputs": [],
   "source": [
    "import pandas as pd\n",
    "import numpy as np \n",
    "import seaborn as sns\n",
    "import matplotlib.pyplot as plt\n",
    "import warnings\n",
    "#suppress lengthy warning messages\n",
    "warnings.filterwarnings('ignore')"
   ]
  },
  {
   "cell_type": "code",
   "execution_count": 2,
   "metadata": {},
   "outputs": [],
   "source": [
    "X = pd.read_csv('listings.csv', low_memory = False)"
   ]
  },
  {
   "cell_type": "markdown",
   "metadata": {},
   "source": [
    "### Exploratory Data Analysis and Preprocessing"
   ]
  },
  {
   "cell_type": "code",
   "execution_count": 507,
   "metadata": {},
   "outputs": [
    {
     "data": {
      "text/plain": [
       "(20677, 106)"
      ]
     },
     "execution_count": 507,
     "metadata": {},
     "output_type": "execute_result"
    }
   ],
   "source": [
    "X.shape"
   ]
  },
  {
   "cell_type": "code",
   "execution_count": 3,
   "metadata": {},
   "outputs": [
    {
     "data": {
      "text/plain": [
       "object     62\n",
       "float64    23\n",
       "int64      21\n",
       "Name: dtype, dtype: int64"
      ]
     },
     "execution_count": 3,
     "metadata": {},
     "output_type": "execute_result"
    }
   ],
   "source": [
    "col_dtypes = []\n",
    "for col in X.columns: \n",
    "    col_dtypes.append(X[col].dtype)\n",
    "col_dtypes_df = pd.DataFrame({'dtype': col_dtypes}, index = X.columns)\n",
    "col_dtypes_df.dtype.value_counts()"
   ]
  },
  {
   "cell_type": "markdown",
   "metadata": {},
   "source": [
    "There appear to be many columns of type 'object'.\n",
    "Numeric columns (float64 + int64) should be the least problematic for models, so let's investigate them first: "
   ]
  },
  {
   "cell_type": "code",
   "execution_count": 509,
   "metadata": {},
   "outputs": [],
   "source": [
    "numeric_cols = [col for col in X.columns if X[col].dtype in ['int64', 'float64']]\n",
    "#numeric_cols"
   ]
  },
  {
   "cell_type": "markdown",
   "metadata": {},
   "source": [
    "Most columns look legitimate. Curious that 'url' columns are included. Further investigation needed"
   ]
  },
  {
   "cell_type": "code",
   "execution_count": 4,
   "metadata": {},
   "outputs": [
    {
     "data": {
      "text/plain": [
       "array([nan])"
      ]
     },
     "execution_count": 4,
     "metadata": {},
     "output_type": "execute_result"
    }
   ],
   "source": [
    "X[['thumbnail_url','medium_url','xl_picture_url']]\n",
    "X.thumbnail_url.unique()\n",
    "X.medium_url.unique()\n",
    "X.xl_picture_url.unique()\n",
    "#all are arrays of NaN. Single-value columns should be removed"
   ]
  },
  {
   "cell_type": "code",
   "execution_count": 5,
   "metadata": {},
   "outputs": [],
   "source": [
    "#following code removes single-value columns: \n",
    "use_cols = [col for col in X.columns if X[col].nunique()> 1]\n",
    "X = X[use_cols]\n",
    "\n",
    "#reset numeric_cols\n",
    "numeric_cols = [col for col in X.columns if X[col].dtype in ['int64', 'float64']]"
   ]
  },
  {
   "cell_type": "code",
   "execution_count": 6,
   "metadata": {},
   "outputs": [
    {
     "data": {
      "text/html": [
       "<div>\n",
       "<style scoped>\n",
       "    .dataframe tbody tr th:only-of-type {\n",
       "        vertical-align: middle;\n",
       "    }\n",
       "\n",
       "    .dataframe tbody tr th {\n",
       "        vertical-align: top;\n",
       "    }\n",
       "\n",
       "    .dataframe thead th {\n",
       "        text-align: right;\n",
       "    }\n",
       "</style>\n",
       "<table border=\"1\" class=\"dataframe\">\n",
       "  <thead>\n",
       "    <tr style=\"text-align: right;\">\n",
       "      <th></th>\n",
       "      <th>id</th>\n",
       "      <th>host_id</th>\n",
       "      <th>host_listings_count</th>\n",
       "      <th>host_total_listings_count</th>\n",
       "      <th>latitude</th>\n",
       "      <th>longitude</th>\n",
       "      <th>accommodates</th>\n",
       "      <th>bathrooms</th>\n",
       "      <th>bedrooms</th>\n",
       "      <th>beds</th>\n",
       "      <th>...</th>\n",
       "      <th>review_scores_cleanliness</th>\n",
       "      <th>review_scores_checkin</th>\n",
       "      <th>review_scores_communication</th>\n",
       "      <th>review_scores_location</th>\n",
       "      <th>review_scores_value</th>\n",
       "      <th>calculated_host_listings_count</th>\n",
       "      <th>calculated_host_listings_count_entire_homes</th>\n",
       "      <th>calculated_host_listings_count_private_rooms</th>\n",
       "      <th>calculated_host_listings_count_shared_rooms</th>\n",
       "      <th>reviews_per_month</th>\n",
       "    </tr>\n",
       "  </thead>\n",
       "  <tbody>\n",
       "    <tr>\n",
       "      <th>count</th>\n",
       "      <td>2.067700e+04</td>\n",
       "      <td>2.067700e+04</td>\n",
       "      <td>20665.000000</td>\n",
       "      <td>20665.000000</td>\n",
       "      <td>20677.000000</td>\n",
       "      <td>20677.000000</td>\n",
       "      <td>20677.000000</td>\n",
       "      <td>20671.000000</td>\n",
       "      <td>20669.000000</td>\n",
       "      <td>20669.000000</td>\n",
       "      <td>...</td>\n",
       "      <td>17852.000000</td>\n",
       "      <td>17840.000000</td>\n",
       "      <td>17847.000000</td>\n",
       "      <td>17842.000000</td>\n",
       "      <td>17842.000000</td>\n",
       "      <td>20677.000000</td>\n",
       "      <td>20677.000000</td>\n",
       "      <td>20677.000000</td>\n",
       "      <td>20677.000000</td>\n",
       "      <td>18084.000000</td>\n",
       "    </tr>\n",
       "    <tr>\n",
       "      <th>mean</th>\n",
       "      <td>1.791013e+07</td>\n",
       "      <td>5.666981e+07</td>\n",
       "      <td>7.010888</td>\n",
       "      <td>7.010888</td>\n",
       "      <td>52.365278</td>\n",
       "      <td>4.889565</td>\n",
       "      <td>2.879335</td>\n",
       "      <td>1.158580</td>\n",
       "      <td>1.454400</td>\n",
       "      <td>1.829213</td>\n",
       "      <td>...</td>\n",
       "      <td>9.469079</td>\n",
       "      <td>9.735762</td>\n",
       "      <td>9.789488</td>\n",
       "      <td>9.476124</td>\n",
       "      <td>9.177054</td>\n",
       "      <td>4.925134</td>\n",
       "      <td>4.492431</td>\n",
       "      <td>0.410988</td>\n",
       "      <td>0.021715</td>\n",
       "      <td>0.987736</td>\n",
       "    </tr>\n",
       "    <tr>\n",
       "      <th>std</th>\n",
       "      <td>1.041987e+07</td>\n",
       "      <td>6.812902e+07</td>\n",
       "      <td>37.729548</td>\n",
       "      <td>37.729548</td>\n",
       "      <td>0.016353</td>\n",
       "      <td>0.035970</td>\n",
       "      <td>1.314935</td>\n",
       "      <td>0.380091</td>\n",
       "      <td>0.894856</td>\n",
       "      <td>1.407580</td>\n",
       "      <td>...</td>\n",
       "      <td>0.867372</td>\n",
       "      <td>0.654358</td>\n",
       "      <td>0.610074</td>\n",
       "      <td>0.707655</td>\n",
       "      <td>0.808275</td>\n",
       "      <td>22.883678</td>\n",
       "      <td>22.710906</td>\n",
       "      <td>1.082794</td>\n",
       "      <td>0.237805</td>\n",
       "      <td>1.349155</td>\n",
       "    </tr>\n",
       "    <tr>\n",
       "      <th>min</th>\n",
       "      <td>2.818000e+03</td>\n",
       "      <td>3.159000e+03</td>\n",
       "      <td>0.000000</td>\n",
       "      <td>0.000000</td>\n",
       "      <td>52.289270</td>\n",
       "      <td>4.753120</td>\n",
       "      <td>1.000000</td>\n",
       "      <td>0.000000</td>\n",
       "      <td>0.000000</td>\n",
       "      <td>0.000000</td>\n",
       "      <td>...</td>\n",
       "      <td>2.000000</td>\n",
       "      <td>2.000000</td>\n",
       "      <td>2.000000</td>\n",
       "      <td>2.000000</td>\n",
       "      <td>2.000000</td>\n",
       "      <td>1.000000</td>\n",
       "      <td>0.000000</td>\n",
       "      <td>0.000000</td>\n",
       "      <td>0.000000</td>\n",
       "      <td>0.010000</td>\n",
       "    </tr>\n",
       "    <tr>\n",
       "      <th>25%</th>\n",
       "      <td>9.340207e+06</td>\n",
       "      <td>8.795077e+06</td>\n",
       "      <td>1.000000</td>\n",
       "      <td>1.000000</td>\n",
       "      <td>52.355130</td>\n",
       "      <td>4.863870</td>\n",
       "      <td>2.000000</td>\n",
       "      <td>1.000000</td>\n",
       "      <td>1.000000</td>\n",
       "      <td>1.000000</td>\n",
       "      <td>...</td>\n",
       "      <td>9.000000</td>\n",
       "      <td>10.000000</td>\n",
       "      <td>10.000000</td>\n",
       "      <td>9.000000</td>\n",
       "      <td>9.000000</td>\n",
       "      <td>1.000000</td>\n",
       "      <td>1.000000</td>\n",
       "      <td>0.000000</td>\n",
       "      <td>0.000000</td>\n",
       "      <td>0.240000</td>\n",
       "    </tr>\n",
       "    <tr>\n",
       "      <th>50%</th>\n",
       "      <td>1.774427e+07</td>\n",
       "      <td>2.618942e+07</td>\n",
       "      <td>1.000000</td>\n",
       "      <td>1.000000</td>\n",
       "      <td>52.364620</td>\n",
       "      <td>4.887030</td>\n",
       "      <td>2.000000</td>\n",
       "      <td>1.000000</td>\n",
       "      <td>1.000000</td>\n",
       "      <td>1.000000</td>\n",
       "      <td>...</td>\n",
       "      <td>10.000000</td>\n",
       "      <td>10.000000</td>\n",
       "      <td>10.000000</td>\n",
       "      <td>10.000000</td>\n",
       "      <td>9.000000</td>\n",
       "      <td>1.000000</td>\n",
       "      <td>1.000000</td>\n",
       "      <td>0.000000</td>\n",
       "      <td>0.000000</td>\n",
       "      <td>0.540000</td>\n",
       "    </tr>\n",
       "    <tr>\n",
       "      <th>75%</th>\n",
       "      <td>2.601974e+07</td>\n",
       "      <td>7.754037e+07</td>\n",
       "      <td>2.000000</td>\n",
       "      <td>2.000000</td>\n",
       "      <td>52.375190</td>\n",
       "      <td>4.909260</td>\n",
       "      <td>4.000000</td>\n",
       "      <td>1.000000</td>\n",
       "      <td>2.000000</td>\n",
       "      <td>2.000000</td>\n",
       "      <td>...</td>\n",
       "      <td>10.000000</td>\n",
       "      <td>10.000000</td>\n",
       "      <td>10.000000</td>\n",
       "      <td>10.000000</td>\n",
       "      <td>10.000000</td>\n",
       "      <td>1.000000</td>\n",
       "      <td>1.000000</td>\n",
       "      <td>1.000000</td>\n",
       "      <td>0.000000</td>\n",
       "      <td>1.070000</td>\n",
       "    </tr>\n",
       "    <tr>\n",
       "      <th>max</th>\n",
       "      <td>3.759099e+07</td>\n",
       "      <td>2.839422e+08</td>\n",
       "      <td>980.000000</td>\n",
       "      <td>980.000000</td>\n",
       "      <td>52.424710</td>\n",
       "      <td>5.027690</td>\n",
       "      <td>30.000000</td>\n",
       "      <td>15.000000</td>\n",
       "      <td>12.000000</td>\n",
       "      <td>32.000000</td>\n",
       "      <td>...</td>\n",
       "      <td>10.000000</td>\n",
       "      <td>10.000000</td>\n",
       "      <td>10.000000</td>\n",
       "      <td>10.000000</td>\n",
       "      <td>10.000000</td>\n",
       "      <td>208.000000</td>\n",
       "      <td>206.000000</td>\n",
       "      <td>15.000000</td>\n",
       "      <td>8.000000</td>\n",
       "      <td>33.670000</td>\n",
       "    </tr>\n",
       "  </tbody>\n",
       "</table>\n",
       "<p>8 rows × 38 columns</p>\n",
       "</div>"
      ],
      "text/plain": [
       "                 id       host_id  host_listings_count  \\\n",
       "count  2.067700e+04  2.067700e+04         20665.000000   \n",
       "mean   1.791013e+07  5.666981e+07             7.010888   \n",
       "std    1.041987e+07  6.812902e+07            37.729548   \n",
       "min    2.818000e+03  3.159000e+03             0.000000   \n",
       "25%    9.340207e+06  8.795077e+06             1.000000   \n",
       "50%    1.774427e+07  2.618942e+07             1.000000   \n",
       "75%    2.601974e+07  7.754037e+07             2.000000   \n",
       "max    3.759099e+07  2.839422e+08           980.000000   \n",
       "\n",
       "       host_total_listings_count      latitude     longitude  accommodates  \\\n",
       "count               20665.000000  20677.000000  20677.000000  20677.000000   \n",
       "mean                    7.010888     52.365278      4.889565      2.879335   \n",
       "std                    37.729548      0.016353      0.035970      1.314935   \n",
       "min                     0.000000     52.289270      4.753120      1.000000   \n",
       "25%                     1.000000     52.355130      4.863870      2.000000   \n",
       "50%                     1.000000     52.364620      4.887030      2.000000   \n",
       "75%                     2.000000     52.375190      4.909260      4.000000   \n",
       "max                   980.000000     52.424710      5.027690     30.000000   \n",
       "\n",
       "          bathrooms      bedrooms          beds  ...  \\\n",
       "count  20671.000000  20669.000000  20669.000000  ...   \n",
       "mean       1.158580      1.454400      1.829213  ...   \n",
       "std        0.380091      0.894856      1.407580  ...   \n",
       "min        0.000000      0.000000      0.000000  ...   \n",
       "25%        1.000000      1.000000      1.000000  ...   \n",
       "50%        1.000000      1.000000      1.000000  ...   \n",
       "75%        1.000000      2.000000      2.000000  ...   \n",
       "max       15.000000     12.000000     32.000000  ...   \n",
       "\n",
       "       review_scores_cleanliness  review_scores_checkin  \\\n",
       "count               17852.000000           17840.000000   \n",
       "mean                    9.469079               9.735762   \n",
       "std                     0.867372               0.654358   \n",
       "min                     2.000000               2.000000   \n",
       "25%                     9.000000              10.000000   \n",
       "50%                    10.000000              10.000000   \n",
       "75%                    10.000000              10.000000   \n",
       "max                    10.000000              10.000000   \n",
       "\n",
       "       review_scores_communication  review_scores_location  \\\n",
       "count                 17847.000000            17842.000000   \n",
       "mean                      9.789488                9.476124   \n",
       "std                       0.610074                0.707655   \n",
       "min                       2.000000                2.000000   \n",
       "25%                      10.000000                9.000000   \n",
       "50%                      10.000000               10.000000   \n",
       "75%                      10.000000               10.000000   \n",
       "max                      10.000000               10.000000   \n",
       "\n",
       "       review_scores_value  calculated_host_listings_count  \\\n",
       "count         17842.000000                    20677.000000   \n",
       "mean              9.177054                        4.925134   \n",
       "std               0.808275                       22.883678   \n",
       "min               2.000000                        1.000000   \n",
       "25%               9.000000                        1.000000   \n",
       "50%               9.000000                        1.000000   \n",
       "75%              10.000000                        1.000000   \n",
       "max              10.000000                      208.000000   \n",
       "\n",
       "       calculated_host_listings_count_entire_homes  \\\n",
       "count                                 20677.000000   \n",
       "mean                                      4.492431   \n",
       "std                                      22.710906   \n",
       "min                                       0.000000   \n",
       "25%                                       1.000000   \n",
       "50%                                       1.000000   \n",
       "75%                                       1.000000   \n",
       "max                                     206.000000   \n",
       "\n",
       "       calculated_host_listings_count_private_rooms  \\\n",
       "count                                  20677.000000   \n",
       "mean                                       0.410988   \n",
       "std                                        1.082794   \n",
       "min                                        0.000000   \n",
       "25%                                        0.000000   \n",
       "50%                                        0.000000   \n",
       "75%                                        1.000000   \n",
       "max                                       15.000000   \n",
       "\n",
       "       calculated_host_listings_count_shared_rooms  reviews_per_month  \n",
       "count                                 20677.000000       18084.000000  \n",
       "mean                                      0.021715           0.987736  \n",
       "std                                       0.237805           1.349155  \n",
       "min                                       0.000000           0.010000  \n",
       "25%                                       0.000000           0.240000  \n",
       "50%                                       0.000000           0.540000  \n",
       "75%                                       0.000000           1.070000  \n",
       "max                                       8.000000          33.670000  \n",
       "\n",
       "[8 rows x 38 columns]"
      ]
     },
     "execution_count": 6,
     "metadata": {},
     "output_type": "execute_result"
    }
   ],
   "source": [
    "X[numeric_cols].describe()"
   ]
  },
  {
   "cell_type": "markdown",
   "metadata": {},
   "source": [
    "Now, look at the other columns:"
   ]
  },
  {
   "cell_type": "code",
   "execution_count": 7,
   "metadata": {},
   "outputs": [],
   "source": [
    "other_cols = [col for col in X if X[col].dtype in ['O'] ]"
   ]
  },
  {
   "cell_type": "code",
   "execution_count": 8,
   "metadata": {},
   "outputs": [
    {
     "data": {
      "text/html": [
       "<div>\n",
       "<style scoped>\n",
       "    .dataframe tbody tr th:only-of-type {\n",
       "        vertical-align: middle;\n",
       "    }\n",
       "\n",
       "    .dataframe tbody tr th {\n",
       "        vertical-align: top;\n",
       "    }\n",
       "\n",
       "    .dataframe thead th {\n",
       "        text-align: right;\n",
       "    }\n",
       "</style>\n",
       "<table border=\"1\" class=\"dataframe\">\n",
       "  <thead>\n",
       "    <tr style=\"text-align: right;\">\n",
       "      <th></th>\n",
       "      <th>listing_url</th>\n",
       "      <th>last_scraped</th>\n",
       "      <th>name</th>\n",
       "      <th>summary</th>\n",
       "      <th>space</th>\n",
       "      <th>description</th>\n",
       "      <th>neighborhood_overview</th>\n",
       "      <th>notes</th>\n",
       "      <th>transit</th>\n",
       "      <th>access</th>\n",
       "      <th>...</th>\n",
       "      <th>calendar_updated</th>\n",
       "      <th>calendar_last_scraped</th>\n",
       "      <th>first_review</th>\n",
       "      <th>last_review</th>\n",
       "      <th>license</th>\n",
       "      <th>jurisdiction_names</th>\n",
       "      <th>instant_bookable</th>\n",
       "      <th>cancellation_policy</th>\n",
       "      <th>require_guest_profile_picture</th>\n",
       "      <th>require_guest_phone_verification</th>\n",
       "    </tr>\n",
       "  </thead>\n",
       "  <tbody>\n",
       "    <tr>\n",
       "      <th>count</th>\n",
       "      <td>20677</td>\n",
       "      <td>20677</td>\n",
       "      <td>20642</td>\n",
       "      <td>20048</td>\n",
       "      <td>15255</td>\n",
       "      <td>20458</td>\n",
       "      <td>14093</td>\n",
       "      <td>9154</td>\n",
       "      <td>14375</td>\n",
       "      <td>12209</td>\n",
       "      <td>...</td>\n",
       "      <td>20677</td>\n",
       "      <td>20677</td>\n",
       "      <td>18084</td>\n",
       "      <td>18084</td>\n",
       "      <td>25</td>\n",
       "      <td>20640</td>\n",
       "      <td>20677</td>\n",
       "      <td>20676</td>\n",
       "      <td>20677</td>\n",
       "      <td>20677</td>\n",
       "    </tr>\n",
       "    <tr>\n",
       "      <th>unique</th>\n",
       "      <td>20677</td>\n",
       "      <td>3</td>\n",
       "      <td>20167</td>\n",
       "      <td>19472</td>\n",
       "      <td>14843</td>\n",
       "      <td>20172</td>\n",
       "      <td>12780</td>\n",
       "      <td>7338</td>\n",
       "      <td>13636</td>\n",
       "      <td>9582</td>\n",
       "      <td>...</td>\n",
       "      <td>75</td>\n",
       "      <td>3</td>\n",
       "      <td>2276</td>\n",
       "      <td>1396</td>\n",
       "      <td>7</td>\n",
       "      <td>4</td>\n",
       "      <td>2</td>\n",
       "      <td>5</td>\n",
       "      <td>2</td>\n",
       "      <td>2</td>\n",
       "    </tr>\n",
       "    <tr>\n",
       "      <th>top</th>\n",
       "      <td>https://www.airbnb.com/rooms/21241593</td>\n",
       "      <td>2019-08-09</td>\n",
       "      <td>Amsterdam</td>\n",
       "      <td>Sleeping up to 2 guests in luxury surroundings...</td>\n",
       "      <td>This gorgeous apartment is excellently designe...</td>\n",
       "      <td>Hotel Jansen is a new Short Stay hotel in Amst...</td>\n",
       "      <td>Amsterdam West is one of the most diverse neig...</td>\n",
       "      <td>Freshly made up beds and crispy towels (one pe...</td>\n",
       "      <td>You have not experienced the Dutch culture tru...</td>\n",
       "      <td>Guests are invited to enjoy the whole apartmen...</td>\n",
       "      <td>...</td>\n",
       "      <td>today</td>\n",
       "      <td>2019-08-09</td>\n",
       "      <td>2016-03-30</td>\n",
       "      <td>2019-08-04</td>\n",
       "      <td>GB 709304057</td>\n",
       "      <td>{Amsterdam,\" NL\"}</td>\n",
       "      <td>f</td>\n",
       "      <td>strict_14_with_grace_period</td>\n",
       "      <td>f</td>\n",
       "      <td>f</td>\n",
       "    </tr>\n",
       "    <tr>\n",
       "      <th>freq</th>\n",
       "      <td>1</td>\n",
       "      <td>13225</td>\n",
       "      <td>39</td>\n",
       "      <td>40</td>\n",
       "      <td>46</td>\n",
       "      <td>13</td>\n",
       "      <td>52</td>\n",
       "      <td>222</td>\n",
       "      <td>17</td>\n",
       "      <td>391</td>\n",
       "      <td>...</td>\n",
       "      <td>2958</td>\n",
       "      <td>13224</td>\n",
       "      <td>77</td>\n",
       "      <td>555</td>\n",
       "      <td>11</td>\n",
       "      <td>14340</td>\n",
       "      <td>15226</td>\n",
       "      <td>8003</td>\n",
       "      <td>20450</td>\n",
       "      <td>20378</td>\n",
       "    </tr>\n",
       "  </tbody>\n",
       "</table>\n",
       "<p>4 rows × 56 columns</p>\n",
       "</div>"
      ],
      "text/plain": [
       "                                  listing_url last_scraped       name  \\\n",
       "count                                   20677        20677      20642   \n",
       "unique                                  20677            3      20167   \n",
       "top     https://www.airbnb.com/rooms/21241593   2019-08-09  Amsterdam   \n",
       "freq                                        1        13225         39   \n",
       "\n",
       "                                                  summary  \\\n",
       "count                                               20048   \n",
       "unique                                              19472   \n",
       "top     Sleeping up to 2 guests in luxury surroundings...   \n",
       "freq                                                   40   \n",
       "\n",
       "                                                    space  \\\n",
       "count                                               15255   \n",
       "unique                                              14843   \n",
       "top     This gorgeous apartment is excellently designe...   \n",
       "freq                                                   46   \n",
       "\n",
       "                                              description  \\\n",
       "count                                               20458   \n",
       "unique                                              20172   \n",
       "top     Hotel Jansen is a new Short Stay hotel in Amst...   \n",
       "freq                                                   13   \n",
       "\n",
       "                                    neighborhood_overview  \\\n",
       "count                                               14093   \n",
       "unique                                              12780   \n",
       "top     Amsterdam West is one of the most diverse neig...   \n",
       "freq                                                   52   \n",
       "\n",
       "                                                    notes  \\\n",
       "count                                                9154   \n",
       "unique                                               7338   \n",
       "top     Freshly made up beds and crispy towels (one pe...   \n",
       "freq                                                  222   \n",
       "\n",
       "                                                  transit  \\\n",
       "count                                               14375   \n",
       "unique                                              13636   \n",
       "top     You have not experienced the Dutch culture tru...   \n",
       "freq                                                   17   \n",
       "\n",
       "                                                   access  ...  \\\n",
       "count                                               12209  ...   \n",
       "unique                                               9582  ...   \n",
       "top     Guests are invited to enjoy the whole apartmen...  ...   \n",
       "freq                                                  391  ...   \n",
       "\n",
       "       calendar_updated calendar_last_scraped first_review last_review  \\\n",
       "count             20677                 20677        18084       18084   \n",
       "unique               75                     3         2276        1396   \n",
       "top               today            2019-08-09   2016-03-30  2019-08-04   \n",
       "freq               2958                 13224           77         555   \n",
       "\n",
       "             license jurisdiction_names instant_bookable  \\\n",
       "count             25              20640            20677   \n",
       "unique             7                  4                2   \n",
       "top     GB 709304057  {Amsterdam,\" NL\"}                f   \n",
       "freq              11              14340            15226   \n",
       "\n",
       "                cancellation_policy require_guest_profile_picture  \\\n",
       "count                         20676                         20677   \n",
       "unique                            5                             2   \n",
       "top     strict_14_with_grace_period                             f   \n",
       "freq                           8003                         20450   \n",
       "\n",
       "       require_guest_phone_verification  \n",
       "count                             20677  \n",
       "unique                                2  \n",
       "top                                   f  \n",
       "freq                              20378  \n",
       "\n",
       "[4 rows x 56 columns]"
      ]
     },
     "execution_count": 8,
     "metadata": {},
     "output_type": "execute_result"
    }
   ],
   "source": [
    "X[other_cols].describe()"
   ]
  },
  {
   "cell_type": "code",
   "execution_count": 9,
   "metadata": {},
   "outputs": [],
   "source": [
    "#price is represented as a string currently, so convert that to a float\n",
    "def priceToNumeric(col):\n",
    "    return [float(value.replace(',', '').replace('$', '')) for value in col]\n",
    "\n",
    "X['price'] = priceToNumeric(X['price'])"
   ]
  },
  {
   "cell_type": "code",
   "execution_count": 14,
   "metadata": {},
   "outputs": [],
   "source": [
    "#convert date strings -> int, so that it can be input into models\n",
    "from datetime import datetime \n",
    "def dateProcessor(df, col_names):\n",
    "    df_use = df.copy()\n",
    "    for col_name in col_names: \n",
    "        df_use[col_name+'_year'] = [int((datetime.strptime(value, '%Y-%m-%d')).year) if isinstance(value, str) else np.nan for value in df[col_name] ]\n",
    "        df_use[col_name+'_month'] = [int((datetime.strptime(value, '%Y-%m-%d')).month) if isinstance(value, str) else np.nan for value in df[col_name]]\n",
    "        df_use[col_name+'_day'] = [int((datetime.strptime(value, '%Y-%m-%d')).day) if isinstance(value, str) else np.nan for value in df[col_name]]\n",
    "    return df_use\n",
    "        \n",
    "X = dateProcessor(X, ['last_scraped', 'last_review', 'first_review', 'calendar_last_scraped'])        \n"
   ]
  },
  {
   "cell_type": "code",
   "execution_count": 15,
   "metadata": {},
   "outputs": [
    {
     "data": {
      "text/html": [
       "<div>\n",
       "<style scoped>\n",
       "    .dataframe tbody tr th:only-of-type {\n",
       "        vertical-align: middle;\n",
       "    }\n",
       "\n",
       "    .dataframe tbody tr th {\n",
       "        vertical-align: top;\n",
       "    }\n",
       "\n",
       "    .dataframe thead th {\n",
       "        text-align: right;\n",
       "    }\n",
       "</style>\n",
       "<table border=\"1\" class=\"dataframe\">\n",
       "  <thead>\n",
       "    <tr style=\"text-align: right;\">\n",
       "      <th></th>\n",
       "      <th>last_scraped</th>\n",
       "      <th>host_response_time</th>\n",
       "      <th>host_is_superhost</th>\n",
       "      <th>host_has_profile_pic</th>\n",
       "      <th>host_identity_verified</th>\n",
       "      <th>market</th>\n",
       "      <th>is_location_exact</th>\n",
       "      <th>room_type</th>\n",
       "      <th>bed_type</th>\n",
       "      <th>calendar_last_scraped</th>\n",
       "      <th>license</th>\n",
       "      <th>jurisdiction_names</th>\n",
       "      <th>instant_bookable</th>\n",
       "      <th>cancellation_policy</th>\n",
       "      <th>require_guest_profile_picture</th>\n",
       "      <th>require_guest_phone_verification</th>\n",
       "    </tr>\n",
       "  </thead>\n",
       "  <tbody>\n",
       "    <tr>\n",
       "      <th>count</th>\n",
       "      <td>20677</td>\n",
       "      <td>12136</td>\n",
       "      <td>20665</td>\n",
       "      <td>20665</td>\n",
       "      <td>20665</td>\n",
       "      <td>20637</td>\n",
       "      <td>20677</td>\n",
       "      <td>20677</td>\n",
       "      <td>20677</td>\n",
       "      <td>20677</td>\n",
       "      <td>25</td>\n",
       "      <td>20640</td>\n",
       "      <td>20677</td>\n",
       "      <td>20676</td>\n",
       "      <td>20677</td>\n",
       "      <td>20677</td>\n",
       "    </tr>\n",
       "    <tr>\n",
       "      <th>unique</th>\n",
       "      <td>3</td>\n",
       "      <td>4</td>\n",
       "      <td>2</td>\n",
       "      <td>2</td>\n",
       "      <td>2</td>\n",
       "      <td>4</td>\n",
       "      <td>2</td>\n",
       "      <td>3</td>\n",
       "      <td>5</td>\n",
       "      <td>3</td>\n",
       "      <td>7</td>\n",
       "      <td>4</td>\n",
       "      <td>2</td>\n",
       "      <td>5</td>\n",
       "      <td>2</td>\n",
       "      <td>2</td>\n",
       "    </tr>\n",
       "    <tr>\n",
       "      <th>top</th>\n",
       "      <td>2019-08-09</td>\n",
       "      <td>within an hour</td>\n",
       "      <td>f</td>\n",
       "      <td>t</td>\n",
       "      <td>f</td>\n",
       "      <td>Amsterdam</td>\n",
       "      <td>t</td>\n",
       "      <td>Entire home/apt</td>\n",
       "      <td>Real Bed</td>\n",
       "      <td>2019-08-09</td>\n",
       "      <td>GB 709304057</td>\n",
       "      <td>{Amsterdam,\" NL\"}</td>\n",
       "      <td>f</td>\n",
       "      <td>strict_14_with_grace_period</td>\n",
       "      <td>f</td>\n",
       "      <td>f</td>\n",
       "    </tr>\n",
       "    <tr>\n",
       "      <th>freq</th>\n",
       "      <td>13225</td>\n",
       "      <td>6217</td>\n",
       "      <td>17451</td>\n",
       "      <td>20649</td>\n",
       "      <td>12602</td>\n",
       "      <td>20631</td>\n",
       "      <td>14471</td>\n",
       "      <td>16402</td>\n",
       "      <td>20498</td>\n",
       "      <td>13224</td>\n",
       "      <td>11</td>\n",
       "      <td>14340</td>\n",
       "      <td>15226</td>\n",
       "      <td>8003</td>\n",
       "      <td>20450</td>\n",
       "      <td>20378</td>\n",
       "    </tr>\n",
       "  </tbody>\n",
       "</table>\n",
       "</div>"
      ],
      "text/plain": [
       "       last_scraped host_response_time host_is_superhost host_has_profile_pic  \\\n",
       "count         20677              12136             20665                20665   \n",
       "unique            3                  4                 2                    2   \n",
       "top      2019-08-09     within an hour                 f                    t   \n",
       "freq          13225               6217             17451                20649   \n",
       "\n",
       "       host_identity_verified     market is_location_exact        room_type  \\\n",
       "count                   20665      20637             20677            20677   \n",
       "unique                      2          4                 2                3   \n",
       "top                         f  Amsterdam                 t  Entire home/apt   \n",
       "freq                    12602      20631             14471            16402   \n",
       "\n",
       "        bed_type calendar_last_scraped       license jurisdiction_names  \\\n",
       "count      20677                 20677            25              20640   \n",
       "unique         5                     3             7                  4   \n",
       "top     Real Bed            2019-08-09  GB 709304057  {Amsterdam,\" NL\"}   \n",
       "freq       20498                 13224            11              14340   \n",
       "\n",
       "       instant_bookable          cancellation_policy  \\\n",
       "count             20677                        20676   \n",
       "unique                2                            5   \n",
       "top                   f  strict_14_with_grace_period   \n",
       "freq              15226                         8003   \n",
       "\n",
       "       require_guest_profile_picture require_guest_phone_verification  \n",
       "count                          20677                            20677  \n",
       "unique                             2                                2  \n",
       "top                                f                                f  \n",
       "freq                           20450                            20378  "
      ]
     },
     "execution_count": 15,
     "metadata": {},
     "output_type": "execute_result"
    }
   ],
   "source": [
    "categorical_vars = [col for col in X if X[col].nunique() < 10 and X[col].dtype == \"object\"]\n",
    "X[categorical_vars].describe()"
   ]
  },
  {
   "cell_type": "code",
   "execution_count": 16,
   "metadata": {},
   "outputs": [],
   "source": [
    "X_OH_encoded = pd.get_dummies(X[categorical_vars])"
   ]
  },
  {
   "cell_type": "code",
   "execution_count": 17,
   "metadata": {},
   "outputs": [],
   "source": [
    "#X now includes cleaned date columns and one-hot encoded categorical columns\n",
    "X = pd.concat([X_OH_encoded, X], axis = 1)\n",
    "X = X.loc[:,~X.columns.duplicated()]"
   ]
  },
  {
   "cell_type": "code",
   "execution_count": 18,
   "metadata": {},
   "outputs": [],
   "source": [
    "#now, we can remove all of the columns that are still categorical \n",
    "numeric_cols = [col for col in X.columns if X[col].dtype in ['int64', 'float64']]\n",
    "X = X[numeric_cols]"
   ]
  },
  {
   "cell_type": "code",
   "execution_count": 19,
   "metadata": {},
   "outputs": [
    {
     "data": {
      "text/html": [
       "<div>\n",
       "<style scoped>\n",
       "    .dataframe tbody tr th:only-of-type {\n",
       "        vertical-align: middle;\n",
       "    }\n",
       "\n",
       "    .dataframe tbody tr th {\n",
       "        vertical-align: top;\n",
       "    }\n",
       "\n",
       "    .dataframe thead th {\n",
       "        text-align: right;\n",
       "    }\n",
       "</style>\n",
       "<table border=\"1\" class=\"dataframe\">\n",
       "  <thead>\n",
       "    <tr style=\"text-align: right;\">\n",
       "      <th></th>\n",
       "      <th>id</th>\n",
       "      <th>host_id</th>\n",
       "      <th>host_listings_count</th>\n",
       "      <th>host_total_listings_count</th>\n",
       "      <th>latitude</th>\n",
       "      <th>longitude</th>\n",
       "      <th>accommodates</th>\n",
       "      <th>bathrooms</th>\n",
       "      <th>bedrooms</th>\n",
       "      <th>beds</th>\n",
       "      <th>...</th>\n",
       "      <th>last_scraped_day</th>\n",
       "      <th>last_review_year</th>\n",
       "      <th>last_review_month</th>\n",
       "      <th>last_review_day</th>\n",
       "      <th>first_review_year</th>\n",
       "      <th>first_review_month</th>\n",
       "      <th>first_review_day</th>\n",
       "      <th>calendar_last_scraped_year</th>\n",
       "      <th>calendar_last_scraped_month</th>\n",
       "      <th>calendar_last_scraped_day</th>\n",
       "    </tr>\n",
       "  </thead>\n",
       "  <tbody>\n",
       "    <tr>\n",
       "      <th>count</th>\n",
       "      <td>2.067700e+04</td>\n",
       "      <td>2.067700e+04</td>\n",
       "      <td>20665.000000</td>\n",
       "      <td>20665.000000</td>\n",
       "      <td>20677.000000</td>\n",
       "      <td>20677.000000</td>\n",
       "      <td>20677.000000</td>\n",
       "      <td>20671.000000</td>\n",
       "      <td>20669.000000</td>\n",
       "      <td>20669.000000</td>\n",
       "      <td>...</td>\n",
       "      <td>20677.000000</td>\n",
       "      <td>18084.000000</td>\n",
       "      <td>18084.000000</td>\n",
       "      <td>18084.000000</td>\n",
       "      <td>18084.000000</td>\n",
       "      <td>18084.000000</td>\n",
       "      <td>18084.000000</td>\n",
       "      <td>20677.0</td>\n",
       "      <td>20677.000000</td>\n",
       "      <td>20677.000000</td>\n",
       "    </tr>\n",
       "    <tr>\n",
       "      <th>mean</th>\n",
       "      <td>1.791013e+07</td>\n",
       "      <td>5.666981e+07</td>\n",
       "      <td>7.010888</td>\n",
       "      <td>7.010888</td>\n",
       "      <td>52.365278</td>\n",
       "      <td>4.889565</td>\n",
       "      <td>2.879335</td>\n",
       "      <td>1.158580</td>\n",
       "      <td>1.454400</td>\n",
       "      <td>1.829213</td>\n",
       "      <td>...</td>\n",
       "      <td>8.639358</td>\n",
       "      <td>2018.305629</td>\n",
       "      <td>6.551758</td>\n",
       "      <td>15.471522</td>\n",
       "      <td>2016.625581</td>\n",
       "      <td>6.465605</td>\n",
       "      <td>15.254700</td>\n",
       "      <td>2019.0</td>\n",
       "      <td>8.000048</td>\n",
       "      <td>8.639309</td>\n",
       "    </tr>\n",
       "    <tr>\n",
       "      <th>std</th>\n",
       "      <td>1.041987e+07</td>\n",
       "      <td>6.812902e+07</td>\n",
       "      <td>37.729548</td>\n",
       "      <td>37.729548</td>\n",
       "      <td>0.016353</td>\n",
       "      <td>0.035970</td>\n",
       "      <td>1.314935</td>\n",
       "      <td>0.380091</td>\n",
       "      <td>0.894856</td>\n",
       "      <td>1.407580</td>\n",
       "      <td>...</td>\n",
       "      <td>0.481707</td>\n",
       "      <td>1.043854</td>\n",
       "      <td>2.402447</td>\n",
       "      <td>9.532315</td>\n",
       "      <td>1.677107</td>\n",
       "      <td>3.042343</td>\n",
       "      <td>9.114906</td>\n",
       "      <td>0.0</td>\n",
       "      <td>0.006954</td>\n",
       "      <td>0.481721</td>\n",
       "    </tr>\n",
       "    <tr>\n",
       "      <th>min</th>\n",
       "      <td>2.818000e+03</td>\n",
       "      <td>3.159000e+03</td>\n",
       "      <td>0.000000</td>\n",
       "      <td>0.000000</td>\n",
       "      <td>52.289270</td>\n",
       "      <td>4.753120</td>\n",
       "      <td>1.000000</td>\n",
       "      <td>0.000000</td>\n",
       "      <td>0.000000</td>\n",
       "      <td>0.000000</td>\n",
       "      <td>...</td>\n",
       "      <td>3.000000</td>\n",
       "      <td>2012.000000</td>\n",
       "      <td>1.000000</td>\n",
       "      <td>1.000000</td>\n",
       "      <td>2009.000000</td>\n",
       "      <td>1.000000</td>\n",
       "      <td>1.000000</td>\n",
       "      <td>2019.0</td>\n",
       "      <td>8.000000</td>\n",
       "      <td>3.000000</td>\n",
       "    </tr>\n",
       "    <tr>\n",
       "      <th>25%</th>\n",
       "      <td>9.340207e+06</td>\n",
       "      <td>8.795077e+06</td>\n",
       "      <td>1.000000</td>\n",
       "      <td>1.000000</td>\n",
       "      <td>52.355130</td>\n",
       "      <td>4.863870</td>\n",
       "      <td>2.000000</td>\n",
       "      <td>1.000000</td>\n",
       "      <td>1.000000</td>\n",
       "      <td>1.000000</td>\n",
       "      <td>...</td>\n",
       "      <td>8.000000</td>\n",
       "      <td>2018.000000</td>\n",
       "      <td>5.000000</td>\n",
       "      <td>6.000000</td>\n",
       "      <td>2016.000000</td>\n",
       "      <td>4.000000</td>\n",
       "      <td>7.000000</td>\n",
       "      <td>2019.0</td>\n",
       "      <td>8.000000</td>\n",
       "      <td>8.000000</td>\n",
       "    </tr>\n",
       "    <tr>\n",
       "      <th>50%</th>\n",
       "      <td>1.774427e+07</td>\n",
       "      <td>2.618942e+07</td>\n",
       "      <td>1.000000</td>\n",
       "      <td>1.000000</td>\n",
       "      <td>52.364620</td>\n",
       "      <td>4.887030</td>\n",
       "      <td>2.000000</td>\n",
       "      <td>1.000000</td>\n",
       "      <td>1.000000</td>\n",
       "      <td>1.000000</td>\n",
       "      <td>...</td>\n",
       "      <td>9.000000</td>\n",
       "      <td>2019.000000</td>\n",
       "      <td>7.000000</td>\n",
       "      <td>16.000000</td>\n",
       "      <td>2017.000000</td>\n",
       "      <td>7.000000</td>\n",
       "      <td>15.000000</td>\n",
       "      <td>2019.0</td>\n",
       "      <td>8.000000</td>\n",
       "      <td>9.000000</td>\n",
       "    </tr>\n",
       "    <tr>\n",
       "      <th>75%</th>\n",
       "      <td>2.601974e+07</td>\n",
       "      <td>7.754037e+07</td>\n",
       "      <td>2.000000</td>\n",
       "      <td>2.000000</td>\n",
       "      <td>52.375190</td>\n",
       "      <td>4.909260</td>\n",
       "      <td>4.000000</td>\n",
       "      <td>1.000000</td>\n",
       "      <td>2.000000</td>\n",
       "      <td>2.000000</td>\n",
       "      <td>...</td>\n",
       "      <td>9.000000</td>\n",
       "      <td>2019.000000</td>\n",
       "      <td>8.000000</td>\n",
       "      <td>24.000000</td>\n",
       "      <td>2018.000000</td>\n",
       "      <td>9.000000</td>\n",
       "      <td>23.000000</td>\n",
       "      <td>2019.0</td>\n",
       "      <td>8.000000</td>\n",
       "      <td>9.000000</td>\n",
       "    </tr>\n",
       "    <tr>\n",
       "      <th>max</th>\n",
       "      <td>3.759099e+07</td>\n",
       "      <td>2.839422e+08</td>\n",
       "      <td>980.000000</td>\n",
       "      <td>980.000000</td>\n",
       "      <td>52.424710</td>\n",
       "      <td>5.027690</td>\n",
       "      <td>30.000000</td>\n",
       "      <td>15.000000</td>\n",
       "      <td>12.000000</td>\n",
       "      <td>32.000000</td>\n",
       "      <td>...</td>\n",
       "      <td>9.000000</td>\n",
       "      <td>2019.000000</td>\n",
       "      <td>12.000000</td>\n",
       "      <td>31.000000</td>\n",
       "      <td>2019.000000</td>\n",
       "      <td>12.000000</td>\n",
       "      <td>31.000000</td>\n",
       "      <td>2019.0</td>\n",
       "      <td>9.000000</td>\n",
       "      <td>9.000000</td>\n",
       "    </tr>\n",
       "  </tbody>\n",
       "</table>\n",
       "<p>8 rows × 51 columns</p>\n",
       "</div>"
      ],
      "text/plain": [
       "                 id       host_id  host_listings_count  \\\n",
       "count  2.067700e+04  2.067700e+04         20665.000000   \n",
       "mean   1.791013e+07  5.666981e+07             7.010888   \n",
       "std    1.041987e+07  6.812902e+07            37.729548   \n",
       "min    2.818000e+03  3.159000e+03             0.000000   \n",
       "25%    9.340207e+06  8.795077e+06             1.000000   \n",
       "50%    1.774427e+07  2.618942e+07             1.000000   \n",
       "75%    2.601974e+07  7.754037e+07             2.000000   \n",
       "max    3.759099e+07  2.839422e+08           980.000000   \n",
       "\n",
       "       host_total_listings_count      latitude     longitude  accommodates  \\\n",
       "count               20665.000000  20677.000000  20677.000000  20677.000000   \n",
       "mean                    7.010888     52.365278      4.889565      2.879335   \n",
       "std                    37.729548      0.016353      0.035970      1.314935   \n",
       "min                     0.000000     52.289270      4.753120      1.000000   \n",
       "25%                     1.000000     52.355130      4.863870      2.000000   \n",
       "50%                     1.000000     52.364620      4.887030      2.000000   \n",
       "75%                     2.000000     52.375190      4.909260      4.000000   \n",
       "max                   980.000000     52.424710      5.027690     30.000000   \n",
       "\n",
       "          bathrooms      bedrooms          beds  ...  last_scraped_day  \\\n",
       "count  20671.000000  20669.000000  20669.000000  ...      20677.000000   \n",
       "mean       1.158580      1.454400      1.829213  ...          8.639358   \n",
       "std        0.380091      0.894856      1.407580  ...          0.481707   \n",
       "min        0.000000      0.000000      0.000000  ...          3.000000   \n",
       "25%        1.000000      1.000000      1.000000  ...          8.000000   \n",
       "50%        1.000000      1.000000      1.000000  ...          9.000000   \n",
       "75%        1.000000      2.000000      2.000000  ...          9.000000   \n",
       "max       15.000000     12.000000     32.000000  ...          9.000000   \n",
       "\n",
       "       last_review_year  last_review_month  last_review_day  \\\n",
       "count      18084.000000       18084.000000     18084.000000   \n",
       "mean        2018.305629           6.551758        15.471522   \n",
       "std            1.043854           2.402447         9.532315   \n",
       "min         2012.000000           1.000000         1.000000   \n",
       "25%         2018.000000           5.000000         6.000000   \n",
       "50%         2019.000000           7.000000        16.000000   \n",
       "75%         2019.000000           8.000000        24.000000   \n",
       "max         2019.000000          12.000000        31.000000   \n",
       "\n",
       "       first_review_year  first_review_month  first_review_day  \\\n",
       "count       18084.000000        18084.000000      18084.000000   \n",
       "mean         2016.625581            6.465605         15.254700   \n",
       "std             1.677107            3.042343          9.114906   \n",
       "min          2009.000000            1.000000          1.000000   \n",
       "25%          2016.000000            4.000000          7.000000   \n",
       "50%          2017.000000            7.000000         15.000000   \n",
       "75%          2018.000000            9.000000         23.000000   \n",
       "max          2019.000000           12.000000         31.000000   \n",
       "\n",
       "       calendar_last_scraped_year  calendar_last_scraped_month  \\\n",
       "count                     20677.0                 20677.000000   \n",
       "mean                       2019.0                     8.000048   \n",
       "std                           0.0                     0.006954   \n",
       "min                        2019.0                     8.000000   \n",
       "25%                        2019.0                     8.000000   \n",
       "50%                        2019.0                     8.000000   \n",
       "75%                        2019.0                     8.000000   \n",
       "max                        2019.0                     9.000000   \n",
       "\n",
       "       calendar_last_scraped_day  \n",
       "count               20677.000000  \n",
       "mean                    8.639309  \n",
       "std                     0.481721  \n",
       "min                     3.000000  \n",
       "25%                     8.000000  \n",
       "50%                     9.000000  \n",
       "75%                     9.000000  \n",
       "max                     9.000000  \n",
       "\n",
       "[8 rows x 51 columns]"
      ]
     },
     "execution_count": 19,
     "metadata": {},
     "output_type": "execute_result"
    }
   ],
   "source": [
    "#final cleaned data to use for models\n",
    "X.describe()"
   ]
  },
  {
   "cell_type": "code",
   "execution_count": 20,
   "metadata": {},
   "outputs": [],
   "source": [
    "X_store = X.copy() \n",
    "#store this for later"
   ]
  },
  {
   "cell_type": "code",
   "execution_count": 21,
   "metadata": {},
   "outputs": [],
   "source": [
    "X_store.to_csv('cleaned_airbnb.csv')"
   ]
  },
  {
   "cell_type": "markdown",
   "metadata": {},
   "source": [
    "### Modeling Prices \n",
    "\n",
    "XGBoost model to predict price. I used this model because XGBoost is good for regression; has been implemented successfully for this type of data"
   ]
  },
  {
   "cell_type": "code",
   "execution_count": 523,
   "metadata": {},
   "outputs": [],
   "source": [
    "from xgboost import XGBRegressor \n",
    "from sklearn.model_selection import train_test_split\n",
    "from sklearn.metrics import mean_squared_error"
   ]
  },
  {
   "cell_type": "code",
   "execution_count": 524,
   "metadata": {},
   "outputs": [],
   "source": [
    "y = X.price\n",
    "X.drop(['price'], axis=1, inplace=True)"
   ]
  },
  {
   "cell_type": "code",
   "execution_count": 525,
   "metadata": {},
   "outputs": [
    {
     "data": {
      "text/plain": [
       "(array([8.000e+00, 9.500e+01, 1.588e+03, 9.821e+03, 7.575e+03, 1.391e+03,\n",
       "        1.750e+02, 1.200e+01, 4.000e+00, 7.000e+00]),\n",
       " array([2.19722458, 2.88705117, 3.57687777, 4.26670436, 4.95653096,\n",
       "        5.64635755, 6.33618415, 7.02601074, 7.71583734, 8.40566394,\n",
       "        9.09549053]),\n",
       " <a list of 10 Patch objects>)"
      ]
     },
     "execution_count": 525,
     "metadata": {},
     "output_type": "execute_result"
    },
    {
     "data": {
      "image/png": "[encoded data removed]",
      "text/plain": [
       "<Figure size 432x288 with 1 Axes>"
      ]
     },
     "metadata": {
      "needs_background": "light"
     },
     "output_type": "display_data"
    }
   ],
   "source": [
    "#take a look at the response distribution\n",
    "plt.hist(np.log(y[y != 0.0]))"
   ]
  },
  {
   "cell_type": "code",
   "execution_count": 526,
   "metadata": {},
   "outputs": [],
   "source": [
    "X_train, X_test, y_train, y_test = train_test_split(X, y,\n",
    "                                                      train_size=0.8, test_size=0.2,\n",
    "                                                      random_state=0)"
   ]
  },
  {
   "cell_type": "code",
   "execution_count": 527,
   "metadata": {},
   "outputs": [],
   "source": [
    "model_1 = XGBRegressor(random_state = 0)"
   ]
  },
  {
   "cell_type": "code",
   "execution_count": 528,
   "metadata": {},
   "outputs": [
    {
     "name": "stdout",
     "output_type": "stream",
     "text": [
      "[21:21:12] WARNING: src/objective/regression_obj.cu:152: reg:linear is now deprecated in favor of reg:squarederror.\n"
     ]
    },
    {
     "data": {
      "text/plain": [
       "XGBRegressor(base_score=0.5, booster='gbtree', colsample_bylevel=1,\n",
       "       colsample_bynode=1, colsample_bytree=1, gamma=0,\n",
       "       importance_type='gain', learning_rate=0.1, max_delta_step=0,\n",
       "       max_depth=3, min_child_weight=1, missing=None, n_estimators=100,\n",
       "       n_jobs=1, nthread=None, objective='reg:linear', random_state=0,\n",
       "       reg_alpha=0, reg_lambda=1, scale_pos_weight=1, seed=None,\n",
       "       silent=None, subsample=1, verbosity=1)"
      ]
     },
     "execution_count": 528,
     "metadata": {},
     "output_type": "execute_result"
    }
   ],
   "source": [
    "model_1.fit(X_train, y_train)"
   ]
  },
  {
   "cell_type": "code",
   "execution_count": 529,
   "metadata": {},
   "outputs": [],
   "source": [
    "predictions_1 = model_1.predict(X_test)"
   ]
  },
  {
   "cell_type": "code",
   "execution_count": 530,
   "metadata": {},
   "outputs": [
    {
     "data": {
      "text/plain": [
       "26396.62457252784"
      ]
     },
     "execution_count": 530,
     "metadata": {},
     "output_type": "execute_result"
    }
   ],
   "source": [
    "model_1_mse = mean_squared_error(y_test, predictions_1)\n",
    "model_1_mse"
   ]
  },
  {
   "cell_type": "code",
   "execution_count": 531,
   "metadata": {},
   "outputs": [
    {
     "data": {
      "text/plain": [
       "<matplotlib.lines.Line2D at 0x1a34437940>"
      ]
     },
     "execution_count": 531,
     "metadata": {},
     "output_type": "execute_result"
    },
    {
     "data": {
      "image/png": "[encoded data removed]",
      "text/plain": [
       "<Figure size 432x288 with 1 Axes>"
      ]
     },
     "metadata": {
      "needs_background": "light"
     },
     "output_type": "display_data"
    }
   ],
   "source": [
    "#scatterplot of the residuals \n",
    "pd.DataFrame({'residual':y_test.values- predictions_1, 'values': y_test.values}).plot.scatter(y = 'residual', x = 'values')\n",
    "plt.axhline(y=0, color='r', linestyle='-')"
   ]
  },
  {
   "cell_type": "markdown",
   "metadata": {},
   "source": [
    "#### Summary: \n",
    "Some residuals seem skewed with one large outlier, and the mse (26396) seems high. Improvements could be made with parameter tuning and performing nlp on some of the descriptive data which was mostly omitted in this model. "
   ]
  },
  {
   "cell_type": "markdown",
   "metadata": {},
   "source": [
    "### Predicting Availability\n",
    "\n",
    "Used a random forest regressor for this problem. "
   ]
  },
  {
   "cell_type": "code",
   "execution_count": 532,
   "metadata": {},
   "outputs": [],
   "source": [
    "from sklearn.ensemble import RandomForestRegressor\n"
   ]
  },
  {
   "cell_type": "code",
   "execution_count": 533,
   "metadata": {},
   "outputs": [],
   "source": [
    "X = X_store.copy()\n",
    "y = X.availability_30\n",
    "X.drop(['availability_30'], axis=1, inplace=True)\n",
    "X_train, X_test, y_train, y_test = train_test_split(X, y,\n",
    "                                                      train_size=0.8, test_size=0.2,\n",
    "                                                      random_state=0)"
   ]
  },
  {
   "cell_type": "code",
   "execution_count": 534,
   "metadata": {},
   "outputs": [
    {
     "data": {
      "text/plain": [
       "(array([ 780.,    0.,  693.,  594.,  993.,  826.,  934.,  961.,  709.,\n",
       "        1152.]),\n",
       " array([0.        , 0.34011974, 0.68023948, 1.02035921, 1.36047895,\n",
       "        1.70059869, 2.04071843, 2.38083817, 2.72095791, 3.06107764,\n",
       "        3.40119738]),\n",
       " <a list of 10 Patch objects>)"
      ]
     },
     "execution_count": 534,
     "metadata": {},
     "output_type": "execute_result"
    },
    {
     "data": {
      "image/png": "[encoded data removed]",
      "text/plain": [
       "<Figure size 432x288 with 1 Axes>"
      ]
     },
     "metadata": {
      "needs_background": "light"
     },
     "output_type": "display_data"
    }
   ],
   "source": [
    "#plt.hist(y)\n",
    "plt.hist(np.log(y[y!=0]))"
   ]
  },
  {
   "cell_type": "code",
   "execution_count": 535,
   "metadata": {},
   "outputs": [
    {
     "data": {
      "text/plain": [
       "0.940456185328833"
      ]
     },
     "execution_count": 535,
     "metadata": {},
     "output_type": "execute_result"
    },
    {
     "data": {
      "image/png": "[encoded data removed]",
      "text/plain": [
       "<Figure size 432x288 with 1 Axes>"
      ]
     },
     "metadata": {
      "needs_background": "light"
     },
     "output_type": "display_data"
    }
   ],
   "source": [
    "#It might be inaccurate to include availability_60 and 90 for a model of availability_30\n",
    "X_1 = X_store.copy()\n",
    "plt.scatter(x= X_1['availability_30'], y = X_1['availability_60'])\n",
    "X_1['availability_30'].corr( X_1['availability_60'])"
   ]
  },
  {
   "cell_type": "code",
   "execution_count": 536,
   "metadata": {},
   "outputs": [
    {
     "name": "stdout",
     "output_type": "stream",
     "text": [
      "0.8804491901921099\n",
      "0.5726489124229313\n"
     ]
    }
   ],
   "source": [
    "print(X_1['availability_30'].corr( X_1['availability_90']))\n",
    "print(X_1['availability_30'].corr( X_1['availability_365']))"
   ]
  },
  {
   "cell_type": "code",
   "execution_count": 537,
   "metadata": {},
   "outputs": [],
   "source": [
    "model_2 = RandomForestRegressor(random_state=1)"
   ]
  },
  {
   "cell_type": "code",
   "execution_count": 538,
   "metadata": {},
   "outputs": [
    {
     "name": "stdout",
     "output_type": "stream",
     "text": [
      "ValueError: Input contains NaN, infinity or a value too large for dtype('float32').\n"
     ]
    }
   ],
   "source": [
    "#Wrote it like this to avoid showing full error message: \n",
    "try: \n",
    "    model_2.fit(X_train, y_train)\n",
    "except: \n",
    "    print(\"ValueError: Input contains NaN, infinity or a value too large for dtype('float32').\")"
   ]
  },
  {
   "cell_type": "markdown",
   "metadata": {},
   "source": [
    "Need to impute NaN values in X_train()"
   ]
  },
  {
   "cell_type": "code",
   "execution_count": 539,
   "metadata": {},
   "outputs": [
    {
     "data": {
      "text/plain": [
       "(16541, 50)"
      ]
     },
     "execution_count": 539,
     "metadata": {},
     "output_type": "execute_result"
    }
   ],
   "source": [
    "from sklearn.impute import SimpleImputer\n",
    "X_train[:] = np.nan_to_num(X_train)\n",
    "X_train.shape"
   ]
  },
  {
   "cell_type": "code",
   "execution_count": 540,
   "metadata": {},
   "outputs": [
    {
     "data": {
      "text/plain": [
       "RandomForestRegressor(bootstrap=True, criterion='mse', max_depth=None,\n",
       "           max_features='auto', max_leaf_nodes=None,\n",
       "           min_impurity_decrease=0.0, min_impurity_split=None,\n",
       "           min_samples_leaf=1, min_samples_split=2,\n",
       "           min_weight_fraction_leaf=0.0, n_estimators=10, n_jobs=None,\n",
       "           oob_score=False, random_state=1, verbose=0, warm_start=False)"
      ]
     },
     "execution_count": 540,
     "metadata": {},
     "output_type": "execute_result"
    }
   ],
   "source": [
    "model_2.fit(X_train, y_train)"
   ]
  },
  {
   "cell_type": "code",
   "execution_count": 541,
   "metadata": {},
   "outputs": [],
   "source": [
    "X_test[:] = np.nan_to_num(X_test)\n",
    "model_2_preds = model_2.predict(X_test)"
   ]
  },
  {
   "cell_type": "code",
   "execution_count": 542,
   "metadata": {},
   "outputs": [
    {
     "data": {
      "text/plain": [
       "4.442903771760155"
      ]
     },
     "execution_count": 542,
     "metadata": {},
     "output_type": "execute_result"
    }
   ],
   "source": [
    "model_2_mse = mean_squared_error(y_test, model_2_preds)\n",
    "model_2_mse"
   ]
  },
  {
   "cell_type": "code",
   "execution_count": 543,
   "metadata": {},
   "outputs": [
    {
     "data": {
      "text/plain": [
       "<matplotlib.lines.Line2D at 0x1a313e6b70>"
      ]
     },
     "execution_count": 543,
     "metadata": {},
     "output_type": "execute_result"
    },
    {
     "data": {
      "image/png": "[encoded data removed]",
      "text/plain": [
       "<Figure size 432x288 with 1 Axes>"
      ]
     },
     "metadata": {
      "needs_background": "light"
     },
     "output_type": "display_data"
    }
   ],
   "source": [
    "#scatterplot of the residuals \n",
    "pd.DataFrame({'residual':y_test.values- model_2_preds, 'values': y_test.values}).plot.scatter(y = 'residual', x = 'values')\n",
    "plt.axhline(y=0, color='r', linestyle='-')"
   ]
  },
  {
   "cell_type": "markdown",
   "metadata": {},
   "source": [
    "#### Summary\n",
    "Model seems to perform fairly well from basic diagnostics. MSE is low, and residuals are fairly evenly distributed, although there is a neg to pos pattern. Could potentially improve by better processing text features and optimizing n_estimators. "
   ]
  },
  {
   "cell_type": "markdown",
   "metadata": {},
   "source": [
    "### Model without other Availability Columns\n",
    "\n",
    "Checking the difference to the model if highly correlated availability features are removed. "
   ]
  },
  {
   "cell_type": "code",
   "execution_count": 544,
   "metadata": {},
   "outputs": [
    {
     "data": {
      "text/plain": [
       "47"
      ]
     },
     "execution_count": 544,
     "metadata": {},
     "output_type": "execute_result"
    }
   ],
   "source": [
    "X = X_store.copy()\n",
    "y = X.availability_30\n",
    "X.drop(['availability_30','availability_60','availability_90', 'availability_365'], axis=1, inplace=True)\n",
    "X_train, X_test, y_train, y_test = train_test_split(X, y,\n",
    "                                                      train_size=0.8, test_size=0.2,\n",
    "                                                      random_state=0)\n",
    "len(X_train.columns)"
   ]
  },
  {
   "cell_type": "code",
   "execution_count": 545,
   "metadata": {},
   "outputs": [],
   "source": [
    "model_3 = RandomForestRegressor(random_state=1)"
   ]
  },
  {
   "cell_type": "code",
   "execution_count": 546,
   "metadata": {},
   "outputs": [
    {
     "data": {
      "text/plain": [
       "RandomForestRegressor(bootstrap=True, criterion='mse', max_depth=None,\n",
       "           max_features='auto', max_leaf_nodes=None,\n",
       "           min_impurity_decrease=0.0, min_impurity_split=None,\n",
       "           min_samples_leaf=1, min_samples_split=2,\n",
       "           min_weight_fraction_leaf=0.0, n_estimators=10, n_jobs=None,\n",
       "           oob_score=False, random_state=1, verbose=0, warm_start=False)"
      ]
     },
     "execution_count": 546,
     "metadata": {},
     "output_type": "execute_result"
    }
   ],
   "source": [
    "X_train[:] = np.nan_to_num(X_train)\n",
    "model_3.fit(X_train, y_train)"
   ]
  },
  {
   "cell_type": "code",
   "execution_count": 547,
   "metadata": {},
   "outputs": [],
   "source": [
    "X_test[:] = np.nan_to_num(X_test)\n",
    "model_3_preds = model_3.predict(X_test)\n",
    "model_3_mse = mean_squared_error(y_test, model_3_preds)"
   ]
  },
  {
   "cell_type": "code",
   "execution_count": 548,
   "metadata": {},
   "outputs": [
    {
     "data": {
      "text/plain": [
       "36.52312620889749"
      ]
     },
     "execution_count": 548,
     "metadata": {},
     "output_type": "execute_result"
    }
   ],
   "source": [
    "model_3_mse"
   ]
  },
  {
   "cell_type": "markdown",
   "metadata": {},
   "source": [
    "#### Summary\n",
    "the mse went from 4.44 to 36.5, clearly a significant change. The removal of the other availability features significantly decreased the predictive power of the model. "
   ]
  }
 ],
 "metadata": {
  "kernelspec": {
   "display_name": "Python 3",
   "language": "python",
   "name": "python3"
  },
  "language_info": {
   "codemirror_mode": {
    "name": "ipython",
    "version": 3
   },
   "file_extension": ".py",
   "mimetype": "text/x-python",
   "name": "python",
   "nbconvert_exporter": "python",
   "pygments_lexer": "ipython3",
   "version": "3.7.3"
  }
 },
 "nbformat": 4,
 "nbformat_minor": 2
}
